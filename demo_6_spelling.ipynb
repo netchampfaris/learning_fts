{
 "cells": [
  {
   "cell_type": "code",
   "execution_count": 1,
   "metadata": {},
   "outputs": [],
   "source": [
    "from collections import defaultdict\n",
    "\n",
    "from fts import FullTextSearch, DOCUMENTS"
   ]
  },
  {
   "cell_type": "code",
   "execution_count": null,
   "metadata": {},
   "outputs": [],
   "source": [
    "fts = FullTextSearch()\n",
    "\n",
    "words = 'python methods artificial intelligence machine learning deep learning natural language processing computer vision'\n",
    "\n",
    "trigram_index = defaultdict(list)\n",
    "\n",
    "for word in words.split():\n",
    "    trigrams = fts._generate_trigrams(word)\n",
    "    for trigram in trigrams:\n",
    "        trigram_index[trigram].append(word)\n",
    "\n",
    "trigram_index\n",
    "\n",
    "query = 'pithon'\n",
    "query_trigrams = set(fts._generate_trigrams(query))\n",
    "\n",
    "print(query_trigrams)\n",
    "\n",
    "candidates = set()\n",
    "for trigram in query_trigrams:\n",
    "    candidates.update(trigram_index[trigram])\n",
    "\n",
    "similarities = []\n",
    "for candidate in candidates:\n",
    "    candidate_trigrams = set(fts._generate_trigrams(candidate))\n",
    "\n",
    "    # Jaccard similarity: intersection / union\n",
    "    common_trigrams = len(query_trigrams.intersection(candidate_trigrams))\n",
    "    all_trigrams = len(query_trigrams.union(candidate_trigrams))\n",
    "    similarity = common_trigrams / all_trigrams if all_trigrams > 0 else 0\n",
    "\n",
    "    similarities.append((candidate, similarity))\n",
    "\n",
    "similarities"
   ]
  },
  {
   "cell_type": "code",
   "execution_count": null,
   "metadata": {},
   "outputs": [],
   "source": [
    "fts = FullTextSearch()\n",
    "\n",
    "fts._build_spelling_index(DOCUMENTS)\n",
    "\n",
    "fts.trigram_index\n",
    "\n",
    "# popular\n",
    "\n",
    "# polupar"
   ]
  },
  {
   "cell_type": "code",
   "execution_count": 15,
   "metadata": {},
   "outputs": [
    {
     "name": "stdout",
     "output_type": "stream",
     "text": [
      "No spelling index available, skipping correction\n"
     ]
    },
    {
     "data": {
      "text/plain": [
       "{'original': 'pythonn analyss',\n",
       " 'corrected': 'pythonn analyss',\n",
       " 'has_corrections': False}"
      ]
     },
     "execution_count": 15,
     "metadata": {},
     "output_type": "execute_result"
    }
   ],
   "source": [
    "query = \"pythonn analyss\"\n",
    "\n",
    "fts.correct_query(query, verbose=True)"
   ]
  }
 ],
 "metadata": {
  "kernelspec": {
   "display_name": ".venv",
   "language": "python",
   "name": "python3"
  },
  "language_info": {
   "codemirror_mode": {
    "name": "ipython",
    "version": 3
   },
   "file_extension": ".py",
   "mimetype": "text/x-python",
   "name": "python",
   "nbconvert_exporter": "python",
   "pygments_lexer": "ipython3",
   "version": "3.10.15"
  }
 },
 "nbformat": 4,
 "nbformat_minor": 4
}
