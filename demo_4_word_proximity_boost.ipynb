{
 "cells": [
  {
   "cell_type": "code",
   "execution_count": 10,
   "metadata": {},
   "outputs": [],
   "source": [
    "from collections import defaultdict\n",
    "\n",
    "from fts import FullTextSearch, DOCUMENTS"
   ]
  },
  {
   "cell_type": "code",
   "execution_count": 11,
   "metadata": {},
   "outputs": [
    {
     "data": {
      "text/plain": [
       "'Indexed 10 documents with 274 unique words'"
      ]
     },
     "execution_count": 11,
     "metadata": {},
     "output_type": "execute_result"
    }
   ],
   "source": [
    "fts = FullTextSearch()\n",
    "fts._index_for_bm25(DOCUMENTS)"
   ]
  },
  {
   "cell_type": "code",
   "execution_count": 18,
   "metadata": {},
   "outputs": [
    {
     "name": "stdout",
     "output_type": "stream",
     "text": [
      "Boosted score for doc_id 7: 1.663445843474621 -> 1.7674112086917848\n",
      "Boosted score for doc_id 8: 1.9866561609435296 -> 2.648874881258039\n"
     ]
    },
    {
     "data": {
      "text/plain": [
       "defaultdict(float,\n",
       "            {'5': 1.7990188244353584,\n",
       "             '7': 1.7674112086917848,\n",
       "             '8': 2.648874881258039,\n",
       "             '3': 0.6434069008592909,\n",
       "             '4': 0.5650362023499206,\n",
       "             '6': 0.44226588985465176,\n",
       "             '9': 0.46095756869330806})"
      ]
     },
     "execution_count": 18,
     "metadata": {},
     "output_type": "execute_result"
    }
   ],
   "source": [
    "query = \"advanced systems\"\n",
    "\n",
    "doc_scores = fts._get_bm25_scores(query)\n",
    "query_words = fts.tokenize(query)\n",
    "\n",
    "for doc_id, score in doc_scores.items():\n",
    "    # word proximity boost\n",
    "    words = fts.tokenize(fts.documents[doc_id]['content'])\n",
    "    positions = defaultdict(list)\n",
    "\n",
    "    # Record positions of all query terms in the document\n",
    "    for i, word in enumerate(words):\n",
    "        for _word in query_words:\n",
    "            if _word == word:\n",
    "                positions[word].append(i)\n",
    "\n",
    "\n",
    "    if any(not positions[word] for word in query_words):\n",
    "        continue\n",
    "\n",
    "    # This is a simplified approach - we're just checking the first occurrence of each term\n",
    "    # A more comprehensive approach would check all possible combinations of positions\n",
    "    word_positions = [positions[word][0] for word in query_words]\n",
    "    word_distance = max(word_positions) - min(word_positions)\n",
    "\n",
    "    proximity_boost = 1 + (1 / (word_distance + 1))\n",
    "    boosted_score = score * proximity_boost\n",
    "\n",
    "    if boosted_score > score:\n",
    "        print('Boosted score for doc_id {}: {} -> {}'.format(doc_id, score, boosted_score))\n",
    "\n",
    "    doc_scores[doc_id] = boosted_score\n",
    "\n",
    "doc_scores"
   ]
  },
  {
   "cell_type": "code",
   "execution_count": 19,
   "metadata": {},
   "outputs": [
    {
     "data": {
      "text/plain": [
       "[{'id': '8',\n",
       "  'title': 'Intelligent Information Retrieval',\n",
       "  'snippet': '**advanced** search **systems** now incorporate intelligence  ...  search can be found in these **systems**. Artificial intelligence conc',\n",
       "  'score': 2.649},\n",
       " {'id': '5',\n",
       "  'title': 'Advanced Computing Systems',\n",
       "  'snippet': 'elligence is transforming how **systems** learn and make decisions. Art ... ting more general and capable **systems**. Artificial intelligence tech',\n",
       "  'score': 1.799},\n",
       " {'id': '7',\n",
       "  'title': 'Using AI for Text Search',\n",
       "  'snippet': 'rtificial intelligence, helps **systems** understand search queries bet ... d by artificial intelligence. **advanced** artificial intelligence model',\n",
       "  'score': 1.767},\n",
       " {'id': '3',\n",
       "  'title': 'Information Retrieval Systems',\n",
       "  'snippet': 'Modern information retrieval **systems** employ various algorithms for ... component of modern retrieval **systems**. Full text search enables use ... remain foundational to search **systems**.Modern information ...',\n",
       "  'score': 0.643},\n",
       " {'id': '4',\n",
       "  'title': 'Artificial Intelligence Revolution in Search',\n",
       "  'snippet': 'Modern computing **systems** are becoming increasingly sop ... oss domains. Full text search **systems** benefit from these artificial',\n",
       "  'score': 0.565},\n",
       " {'id': '9',\n",
       "  'title': 'Search Technology Evolution',\n",
       "  'snippet': 'Modern retrieval **systems** continue to evolve with new c',\n",
       "  'score': 0.461},\n",
       " {'id': '6',\n",
       "  'title': 'Artificial Intelligence Applications',\n",
       "  'snippet': 'us vehicles. Full text search **systems** use artificial intelligence t',\n",
       "  'score': 0.442}]"
      ]
     },
     "execution_count": 19,
     "metadata": {},
     "output_type": "execute_result"
    }
   ],
   "source": [
    "# Prepare search results\n",
    "matched_words = fts._get_matched_words(query)\n",
    "results = fts._prepare_search_results(doc_scores, matched_words)\n",
    "results"
   ]
  }
 ],
 "metadata": {
  "kernelspec": {
   "display_name": ".venv",
   "language": "python",
   "name": "python3"
  },
  "language_info": {
   "codemirror_mode": {
    "name": "ipython",
    "version": 3
   },
   "file_extension": ".py",
   "mimetype": "text/x-python",
   "name": "python",
   "nbconvert_exporter": "python",
   "pygments_lexer": "ipython3",
   "version": "3.10.15"
  }
 },
 "nbformat": 4,
 "nbformat_minor": 4
}
