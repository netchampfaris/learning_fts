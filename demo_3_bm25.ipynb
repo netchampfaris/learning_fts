{
 "cells": [
  {
   "cell_type": "code",
   "execution_count": 11,
   "metadata": {},
   "outputs": [],
   "source": [
    "import math\n",
    "from collections import defaultdict\n",
    "\n",
    "from fts import FullTextSearch, DOCUMENTS"
   ]
  },
  {
   "cell_type": "code",
   "execution_count": null,
   "metadata": {},
   "outputs": [],
   "source": [
    "fts = FullTextSearch()\n",
    "\n",
    "total_length = 0\n",
    "\n",
    "for doc in DOCUMENTS:\n",
    "    doc_id = doc[\"id\"]\n",
    "    fts.documents[doc_id] = doc\n",
    "\n",
    "    # Create a single text with title weighted more heavily\n",
    "    # We repeat the title three times to give it more weight (naive version)\n",
    "    text = f\"{doc['title']} {doc['title']} {doc['title']} {doc['content']}\"\n",
    "\n",
    "    # Tokenize the combined text\n",
    "    words = fts.tokenize(text)\n",
    "\n",
    "    # Calculate document length\n",
    "    doc_length = len(words)\n",
    "    fts.doc_lengths[doc_id] = doc_length\n",
    "    total_length += doc_length\n",
    "\n",
    "    # Count word frequencies\n",
    "    word_freq = defaultdict(int)\n",
    "    for word in words:\n",
    "        word_freq[word] += 1\n",
    "\n",
    "    # Add to inverted index\n",
    "    for word, freq in word_freq.items():\n",
    "        fts.inverted_index[word].append((doc_id, freq))\n",
    "\n",
    "fts.total_doc_count = len(DOCUMENTS)\n",
    "fts.avg_doc_length = total_length / fts.total_doc_count if fts.total_doc_count > 0 else 0\n",
    "\n",
    "fts.inverted_index\n",
    "# print(fts.inverted_index['analysis'])\n",
    "# print(fts.inverted_index['python'])"
   ]
  },
  {
   "cell_type": "markdown",
   "metadata": {},
   "source": [
    "https://en.wikipedia.org/wiki/Okapi_BM25\n",
    "\n",
    "![](./images/bm25_formula1.png)"
   ]
  },
  {
   "cell_type": "code",
   "execution_count": null,
   "metadata": {},
   "outputs": [],
   "source": [
    "query = \"intelligence\"\n",
    "\n",
    "query_words = fts.tokenize(query)\n",
    "\n",
    "# BM25 parameters\n",
    "k1 = 1.2  # Term frequency saturation\n",
    "b = 0.75  # Length normalization\n",
    "\n",
    "# Calculate scores for each document\n",
    "doc_scores = defaultdict(float)\n",
    "matched_words = defaultdict(set)\n",
    "\n",
    "for word in query_words:\n",
    "    if word not in fts.inverted_index:\n",
    "        continue\n",
    "\n",
    "    # How many documents contain this word\n",
    "    docs_with_word = fts.inverted_index[word]\n",
    "    docs_with_word_count = len(docs_with_word)\n",
    "\n",
    "    # Inverse Document Frequency (IDF) - rare words are more valuable\n",
    "    idf = math.log((fts.total_doc_count - docs_with_word_count + 0.5) / (docs_with_word_count + 0.5) + 1)\n",
    "\n",
    "    for doc_id, freq in docs_with_word:\n",
    "        doc_len = fts.doc_lengths[doc_id]\n",
    "        numerator = freq * (k1 + 1)\n",
    "        denominator = freq + k1 * (1 - b + b * (doc_len / fts.avg_doc_length))\n",
    "        bm25_score = idf * (numerator / denominator)\n",
    "\n",
    "        # Add to document score\n",
    "        doc_scores[doc_id] += bm25_score\n",
    "        matched_words[doc_id].add(word)\n",
    "\n",
    "doc_scores\n",
    "matched_words"
   ]
  },
  {
   "cell_type": "code",
   "execution_count": 14,
   "metadata": {},
   "outputs": [
    {
     "data": {
      "text/plain": [
       "[{'id': '6',\n",
       "  'title': 'Artificial Intelligence Applications',\n",
       "  'snippet': 'Artificial intelligence is revolutionizing multiple industries. Healthcare uses AI for diagnosis and...',\n",
       "  'score': 0.092},\n",
       " {'id': '5',\n",
       "  'title': 'Advanced Computing Systems',\n",
       "  'snippet': 'Artificial intelligence is transforming how systems learn and make decisions. Artificial intelligenc...',\n",
       "  'score': 0.088},\n",
       " {'id': '4',\n",
       "  'title': 'Artificial Intelligence Revolution in Search',\n",
       "  'snippet': 'Modern computing systems are becoming increasingly sophisticated. Machine learning models can recogn...',\n",
       "  'score': 0.088},\n",
       " {'id': '7',\n",
       "  'title': 'Using AI for Text Search',\n",
       "  'snippet': 'Artificial intelligence techniques significantly improve full text search capabilities. Modern searc...',\n",
       "  'score': 0.081},\n",
       " {'id': '8',\n",
       "  'title': 'Intelligent Information Retrieval',\n",
       "  'snippet': 'Advanced search systems now incorporate intelligence for better results. Some elements of full text ...',\n",
       "  'score': 0.072},\n",
       " {'id': '1',\n",
       "  'title': 'Term Frequency Example with Artificial Intelligence',\n",
       "  'snippet': 'Full text search full text search full text search. Full text search full text search full text sear...',\n",
       "  'score': 0.07},\n",
       " {'id': '10',\n",
       "  'title': 'Programming Languages for Modern Applications',\n",
       "  'snippet': 'Python is known for readability and extensive libraries. JavaScript dominates web development. Java ...',\n",
       "  'score': 0.067},\n",
       " {'id': '9',\n",
       "  'title': 'Search Technology Evolution',\n",
       "  'snippet': 'Modern retrieval systems continue to evolve with new capabilities. Limited artificial intelligence f...',\n",
       "  'score': 0.055},\n",
       " {'id': '3',\n",
       "  'title': 'Information Retrieval Systems',\n",
       "  'snippet': 'Modern information retrieval systems employ various algorithms for document ranking. Full text searc...',\n",
       "  'score': 0.05},\n",
       " {'id': '2',\n",
       "  'title': 'Concise Search Guide',\n",
       "  'snippet': 'Full text search is a powerful technique for finding relevant documents. This very short document is...',\n",
       "  'score': 0.046}]"
      ]
     },
     "execution_count": 14,
     "metadata": {},
     "output_type": "execute_result"
    }
   ],
   "source": [
    "# Prepare search results\n",
    "results = []\n",
    "for doc_id, score in sorted(doc_scores.items(), key=lambda x: x[1], reverse=True):\n",
    "    doc = fts.documents[doc_id]\n",
    "    content = doc[\"content\"]\n",
    "\n",
    "    results.append(\n",
    "        {\n",
    "            \"id\": doc_id,\n",
    "            \"title\": doc[\"title\"],\n",
    "            \"snippet\": content[:100] + \"...\" if len(content) > 100 else content,\n",
    "            \"score\": round(score, 3),\n",
    "        }\n",
    "    )\n",
    "\n",
    "results"
   ]
  }
 ],
 "metadata": {
  "kernelspec": {
   "display_name": ".venv",
   "language": "python",
   "name": "python3"
  },
  "language_info": {
   "codemirror_mode": {
    "name": "ipython",
    "version": 3
   },
   "file_extension": ".py",
   "mimetype": "text/x-python",
   "name": "python",
   "nbconvert_exporter": "python",
   "pygments_lexer": "ipython3",
   "version": "3.10.15"
  }
 },
 "nbformat": 4,
 "nbformat_minor": 4
}
