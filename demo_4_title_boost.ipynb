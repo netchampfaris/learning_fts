{
 "cells": [
  {
   "cell_type": "code",
   "execution_count": 1,
   "metadata": {},
   "outputs": [],
   "source": [
    "import math\n",
    "from collections import defaultdict\n",
    "\n",
    "from fts import FullTextSearch, DOCUMENTS"
   ]
  },
  {
   "cell_type": "code",
   "execution_count": 2,
   "metadata": {},
   "outputs": [
    {
     "data": {
      "text/plain": [
       "'Indexed 10 documents with 274 unique words'"
      ]
     },
     "execution_count": 2,
     "metadata": {},
     "output_type": "execute_result"
    }
   ],
   "source": [
    "fts = FullTextSearch()\n",
    "fts._index_for_bm25(DOCUMENTS)"
   ]
  },
  {
   "cell_type": "code",
   "execution_count": 3,
   "metadata": {},
   "outputs": [
    {
     "name": "stdout",
     "output_type": "stream",
     "text": [
      "Boosted score for doc_id 1: 0.05287983149893803 -> 0.06345579779872564\n",
      "Boosted score for doc_id 4: 0.08216438974742392 -> 0.0985972676969087\n",
      "Boosted score for doc_id 6: 0.08892843563097559 -> 0.10671412275717071\n"
     ]
    },
    {
     "data": {
      "text/plain": [
       "defaultdict(float,\n",
       "            {'1': 0.06345579779872564,\n",
       "             '2': 0.04517173709878027,\n",
       "             '3': 0.049121763342148746,\n",
       "             '4': 0.0985972676969087,\n",
       "             '5': 0.08818380268430596,\n",
       "             '6': 0.10671412275717071,\n",
       "             '7': 0.08153230195553844,\n",
       "             '8': 0.07271279162813266,\n",
       "             '9': 0.05599004464533014,\n",
       "             '10': 0.06775439697242819})"
      ]
     },
     "execution_count": 3,
     "metadata": {},
     "output_type": "execute_result"
    }
   ],
   "source": [
    "query = \"intelligence\"\n",
    "\n",
    "# Calculate scores for each document\n",
    "doc_scores = fts._get_bm25_scores(query)\n",
    "\n",
    "query_words = fts.tokenize(query)\n",
    "\n",
    "for doc_id, score in doc_scores.items():\n",
    "    # title boost\n",
    "    title_words = fts.tokenize(fts.documents[doc_id][\"title\"])\n",
    "\n",
    "    matching_words = sum(1 for qw in query_words if qw in title_words)\n",
    "    # boost the score based on how many words matched in the title\n",
    "    title_boost = 1 + (0.2 * matching_words)\n",
    "    boosted_score = score * title_boost\n",
    "\n",
    "    if boosted_score > score:\n",
    "        print('Boosted score for doc_id {}: {} -> {}'.format(doc_id, score, boosted_score))\n",
    "\n",
    "    doc_scores[doc_id] = boosted_score\n",
    "\n",
    "doc_scores\n",
    "# matched_words"
   ]
  },
  {
   "cell_type": "code",
   "execution_count": 4,
   "metadata": {},
   "outputs": [
    {
     "data": {
      "text/plain": [
       "[{'id': '6',\n",
       "  'title': 'Artificial Intelligence Applications',\n",
       "  'snippet': 'Artificial **intelligence** is revolutionizing multiple i ... nstitutions employ artificial **intelligence** for fraud detection. Manufact ... ring benefits from artificial **intelligence** through predictive mai...',\n",
       "  'score': 0.107},\n",
       " {'id': '4',\n",
       "  'title': 'Artificial Intelligence Revolution in Search',\n",
       "  'snippet': ' patterns in data. Artificial **intelligence** neural networks mimic human b ... isual information. Artificial **intelligence** enhances capabilities across  ... benefit from these artificial **intelligence** adv...',\n",
       "  'score': 0.099},\n",
       " {'id': '5',\n",
       "  'title': 'Advanced Computing Systems',\n",
       "  'snippet': 'Artificial **intelligence** is transforming how systems l ... nd make decisions. Artificial **intelligence** applications span from recomm ... icles. The rise of artificial **intelligence** has sparked debate abo...',\n",
       "  'score': 0.088},\n",
       " {'id': '7',\n",
       "  'title': 'Using AI for Text Search',\n",
       "  'snippet': 'Artificial **intelligence** techniques significantly impr ... ing, a subfield of artificial **intelligence**, helps systems understand sea ... orithms powered by artificial **intelligence**. Advanced artificial i...',\n",
       "  'score': 0.082},\n",
       " {'id': '8',\n",
       "  'title': 'Intelligent Information Retrieval',\n",
       "  'snippet': 'earch systems now incorporate **intelligence** for better results. Some elem ...  in these systems. Artificial **intelligence** concepts may be applied in li',\n",
       "  'score': 0.073},\n",
       " {'id': '10',\n",
       "  'title': 'Programming Languages for Modern Applications',\n",
       "  'snippet': '. Some are used in artificial **intelligence** projects. Others may implemen ...  features. Neither artificial **intelligence** nor full text search are cent',\n",
       "  'score': 0.068},\n",
       " {'id': '1',\n",
       "  'title': 'Term Frequency Example with Artificial Intelligence',\n",
       "  'snippet': 'uration mechanism. Artificial **intelligence** is mentioned here for complet',\n",
       "  'score': 0.063},\n",
       " {'id': '9',\n",
       "  'title': 'Search Technology Evolution',\n",
       "  'snippet': 'abilities. Limited artificial **intelligence** features are being integrated',\n",
       "  'score': 0.056},\n",
       " {'id': '3',\n",
       "  'title': 'Information Retrieval Systems',\n",
       "  'snippet': 'ocument structure. Artificial **intelligence** techniques are increasingly a ... ocument structure. Artificial **intelligence** techniques are increasingly a',\n",
       "  'score': 0.049},\n",
       " {'id': '2',\n",
       "  'title': 'Concise Search Guide',\n",
       "  'snippet': 'ut low term count. Artificial **intelligence** tools can enhance search capa',\n",
       "  'score': 0.045}]"
      ]
     },
     "execution_count": 4,
     "metadata": {},
     "output_type": "execute_result"
    }
   ],
   "source": [
    "# Prepare search results\n",
    "matched_words = fts._get_matched_words(query)\n",
    "results = fts._prepare_search_results(doc_scores, matched_words)\n",
    "results"
   ]
  }
 ],
 "metadata": {
  "kernelspec": {
   "display_name": ".venv",
   "language": "python",
   "name": "python3"
  },
  "language_info": {
   "codemirror_mode": {
    "name": "ipython",
    "version": 3
   },
   "file_extension": ".py",
   "mimetype": "text/x-python",
   "name": "python",
   "nbconvert_exporter": "python",
   "pygments_lexer": "ipython3",
   "version": "3.10.15"
  }
 },
 "nbformat": 4,
 "nbformat_minor": 4
}
