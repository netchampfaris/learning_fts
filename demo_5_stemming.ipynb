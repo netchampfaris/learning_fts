{
 "cells": [
  {
   "cell_type": "code",
   "execution_count": null,
   "metadata": {},
   "outputs": [],
   "source": [
    "from collections import defaultdict\n",
    "\n",
    "from fts import FullTextSearch, DOCUMENTS"
   ]
  },
  {
   "cell_type": "code",
   "execution_count": null,
   "metadata": {},
   "outputs": [],
   "source": [
    "fts = FullTextSearch()\n",
    "\n",
    "# index the documents\n",
    "for doc in DOCUMENTS:\n",
    "    text = f'{doc[\"title\"]} {doc[\"content\"]}'\n",
    "    # print(fts._tokenize_basic(text))\n",
    "    # print(fts._tokenize_remove_punctuation(text))\n",
    "    # print(fts._tokenize_remove_stopwords(text))\n",
    "    # print(fts._tokenize_by_stemming(text))\n",
    "\n",
    "fts._tokenize_by_stemming('running run language languages generate generation generates' )"
   ]
  },
  {
   "cell_type": "code",
   "execution_count": null,
   "metadata": {},
   "outputs": [],
   "source": [
    "fts = FullTextSearch()\n",
    "fts.tokenize_level = 4\n",
    "fts.index_documents(DOCUMENTS)\n",
    "\n",
    "# fts.inverted_index\n",
    "print(fts.inverted_index['librari'])\n",
    "# print(fts.inverted_index['python'])"
   ]
  },
  {
   "cell_type": "code",
   "execution_count": null,
   "metadata": {},
   "outputs": [],
   "source": [
    "query = \"extensive library\"\n",
    "\n",
    "fts._search_with_bm25(query)"
   ]
  }
 ],
 "metadata": {
  "kernelspec": {
   "display_name": ".venv",
   "language": "python",
   "name": "python3"
  },
  "language_info": {
   "codemirror_mode": {
    "name": "ipython",
    "version": 3
   },
   "file_extension": ".py",
   "mimetype": "text/x-python",
   "name": "python",
   "nbconvert_exporter": "python",
   "pygments_lexer": "ipython3",
   "version": "3.10.15"
  }
 },
 "nbformat": 4,
 "nbformat_minor": 4
}
