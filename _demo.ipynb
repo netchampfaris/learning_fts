{
 "cells": [
  {
   "cell_type": "code",
   "execution_count": 1,
   "metadata": {},
   "outputs": [
    {
     "data": {
      "text/plain": [
       "'Indexed 10 documents with 274 unique words (with title boosting)'"
      ]
     },
     "execution_count": 1,
     "metadata": {},
     "output_type": "execute_result"
    }
   ],
   "source": [
    "from fts import FullTextSearch, DOCUMENTS\n",
    "fts = FullTextSearch()\n",
    "fts._index_for_bm25(DOCUMENTS)"
   ]
  },
  {
   "cell_type": "code",
   "execution_count": null,
   "metadata": {},
   "outputs": [
    {
     "name": "stdout",
     "output_type": "stream",
     "text": [
      "Query words: ['full', 'text', 'search']\n",
      "\n",
      "Comparison of Search Methods\n",
      "===========================\n",
      "\n",
      "--------------------------------------------------------------------------------------------------------------------\n",
      "ID    Title                     TF       Title Hits   Content Hits    Content Len  TFIDF            BM25            \n",
      "--------------------------------------------------------------------------------------------------------------------\n",
      "1     Term Frequency Example    0.2951   0            36              117          0.295 (1st)      0.266 (1st)     \n",
      "7     Using AI for Text Searc   0.1964   2            9               52           0.196 (2nd)      0.232 (2nd)     \n",
      "2     Concise Search Guide      0.1467   1            10              72           0.147 (3rd)      0.226 (3rd)     \n",
      "8     Intelligent Information   0.1250   0            5               37           0.125 (4th)      0.202 (6th)     \n",
      "3     Information Retrieval S   0.1103   0            16              142          0.110 (5th)      0.213 (4th)     \n",
      "10    Programming Languages f   0.1071   0            6               52           0.107 (6th)      0.203 (5th)     \n",
      "9     Search Technology Evolu   0.0976   1            3               38           0.098 (7th)      0.184 (7th)     \n",
      "4     Artificial Intelligence   0.0755   1            3               49           0.075 (8th)      0.172 (8th)     \n",
      "6     Artificial Intelligence   0.0638   0            3               44           0.064 (9th)      0.161 (9th)     \n",
      "5     Advanced Computing Syst   0.0469   0            3               61           0.047 (10th)     0.145 (10th)    \n",
      "--------------------------------------------------------------------------------------------------------------------\n",
      "\n",
      "Note: Higher scores generally indicate better relevance.\n",
      "TF shows the normalized term frequency (sum for all query terms).\n",
      "Content Len shows token count after tokenization (words excluding stopwords).\n"
     ]
    },
    {
     "data": {
      "text/plain": [
       "{'combined_scores': {'4': {'tfidf': 0.075, 'bm25': 0.172},\n",
       "  '7': {'tfidf': 0.196, 'bm25': 0.232},\n",
       "  '6': {'tfidf': 0.064, 'bm25': 0.161},\n",
       "  '3': {'tfidf': 0.11, 'bm25': 0.213},\n",
       "  '1': {'tfidf': 0.295, 'bm25': 0.266},\n",
       "  '8': {'tfidf': 0.125, 'bm25': 0.202},\n",
       "  '2': {'tfidf': 0.147, 'bm25': 0.226},\n",
       "  '5': {'tfidf': 0.047, 'bm25': 0.145},\n",
       "  '9': {'tfidf': 0.098, 'bm25': 0.184},\n",
       "  '10': {'tfidf': 0.107, 'bm25': 0.203}},\n",
       " 'results': {'tfidf': [{'id': '1',\n",
       "    'title': 'Term Frequency Example with Artificial Intelligence',\n",
       "    'score': 0.295},\n",
       "   {'id': '7', 'title': 'Using AI for Text Search', 'score': 0.196},\n",
       "   {'id': '2', 'title': 'Concise Search Guide', 'score': 0.147},\n",
       "   {'id': '8', 'title': 'Intelligent Information Retrieval', 'score': 0.125},\n",
       "   {'id': '3', 'title': 'Information Retrieval Systems', 'score': 0.11},\n",
       "   {'id': '10',\n",
       "    'title': 'Programming Languages for Modern Applications',\n",
       "    'score': 0.107},\n",
       "   {'id': '9', 'title': 'Search Technology Evolution', 'score': 0.098},\n",
       "   {'id': '4',\n",
       "    'title': 'Artificial Intelligence Revolution in Search',\n",
       "    'score': 0.075},\n",
       "   {'id': '6',\n",
       "    'title': 'Artificial Intelligence Applications',\n",
       "    'score': 0.064},\n",
       "   {'id': '5', 'title': 'Advanced Computing Systems', 'score': 0.047}],\n",
       "  'bm25': [{'id': '1',\n",
       "    'title': 'Term Frequency Example with Artificial Intelligence',\n",
       "    'snippet': '**full** **text** **search** **full** **text** **search** **full** **text** **search**. **full** **text** **search** **full** **text** **search** **full** **text** **search**. **full** **text** **search** **full** **text** **search** **full** **text** **search**. **full** **text** **search** **full** **text** **search** **full** **text** ...',\n",
       "    'score': 0.266},\n",
       "   {'id': '7',\n",
       "    'title': 'Using AI for Text Search',\n",
       "    'snippet': 'hniques significantly improve **full** **text** **search** capabilities. Modern **search** engines use machine learning  ... nce, helps systems understand **search** queries better. **full** **text** **search** benefits from context...',\n",
       "    'score': 0.232},\n",
       "   {'id': '2',\n",
       "    'title': 'Concise Search Guide',\n",
       "    'snippet': '**full** **text** **search** is a powerful technique for f ... m density but low term count. **full** **text** **search** is a powerful technique for f ... m density but low term count. **full** **text** **search** is a powerful techniq...',\n",
       "    'score': 0.226},\n",
       "   {'id': '3',\n",
       "    'title': 'Information Retrieval Systems',\n",
       "    'snippet': 'orithms for document ranking. **full** **text** **search** capabilities are the primary  ...  of modern retrieval systems. **full** **text** **search** enables users to find relevan ... tion quickly and efficiently. **search** t...',\n",
       "    'score': 0.213},\n",
       "   {'id': '10',\n",
       "    'title': 'Programming Languages for Modern Applications',\n",
       "    'snippet': 'rojects. Others may implement **full** **text** **search** features. Neither artificial intelligence nor **full** **text** **search** are central topics in this do',\n",
       "    'score': 0.203},\n",
       "   {'id': '8',\n",
       "    'title': 'Intelligent Information Retrieval',\n",
       "    'snippet': 'Advanced **search** systems now incorporate intel ... ter results. Some elements of **full** **text** **search** can be found in these systems ... earching through unstructured **text** requires sophisticated algori',\n",
       "    'score': 0.202},\n",
       "   {'id': '9',\n",
       "    'title': 'Search Technology Evolution',\n",
       "    'snippet': \"g integrated gradually. Basic **full** **text** **search** functionality exists but isn'\",\n",
       "    'score': 0.184},\n",
       "   {'id': '4',\n",
       "    'title': 'Artificial Intelligence Revolution in Search',\n",
       "    'snippet': ' capabilities across domains. **full** **text** **search** systems benefit from these ar',\n",
       "    'score': 0.172},\n",
       "   {'id': '6',\n",
       "    'title': 'Artificial Intelligence Applications',\n",
       "    'snippet': 'gence in autonomous vehicles. **full** **text** **search** systems use artificial intell',\n",
       "    'score': 0.161},\n",
       "   {'id': '5',\n",
       "    'title': 'Advanced Computing Systems',\n",
       "    'snippet': ' rapidly across many domains. **full** **text** **search** capabilities can be improved ',\n",
       "    'score': 0.145}]}}"
      ]
     },
     "execution_count": 2,
     "metadata": {},
     "output_type": "execute_result"
    }
   ],
   "source": [
    "fts.compare_search('full text search', methods=['tfidf', 'bm25']) # for tfidf vs bm25\n",
    "# fts.compare_search('artifical intelligence', methods=['bm25', 'bm25f']) # for bm25 vs bm25f"
   ]
  }
 ],
 "metadata": {
  "kernelspec": {
   "display_name": ".venv",
   "language": "python",
   "name": "python3"
  },
  "language_info": {
   "codemirror_mode": {
    "name": "ipython",
    "version": 3
   },
   "file_extension": ".py",
   "mimetype": "text/x-python",
   "name": "python",
   "nbconvert_exporter": "python",
   "pygments_lexer": "ipython3",
   "version": "3.10.15"
  }
 },
 "nbformat": 4,
 "nbformat_minor": 2
}
