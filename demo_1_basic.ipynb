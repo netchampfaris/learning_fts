{
 "cells": [
  {
   "cell_type": "code",
   "execution_count": 1,
   "metadata": {},
   "outputs": [],
   "source": [
    "from fts import FullTextSearch, DOCUMENTS"
   ]
  },
  {
   "cell_type": "code",
   "execution_count": null,
   "metadata": {},
   "outputs": [],
   "source": [
    "DOCUMENTS"
   ]
  },
  {
   "cell_type": "code",
   "execution_count": 3,
   "metadata": {},
   "outputs": [
    {
     "name": "stdout",
     "output_type": "stream",
     "text": [
      "['term', 'frequency', 'example', 'with', 'artificial', 'intelligence', 'full', 'text', 'search', 'full', 'text', 'search', 'full', 'text', 'search.', 'full', 'text', 'search', 'full', 'text', 'search', 'full', 'text', 'search.', 'full', 'text', 'search', 'full', 'text', 'search', 'full', 'text', 'search.', 'full', 'text', 'search', 'full', 'text', 'search', 'full', 'text', 'search.', 'this', 'document', 'contains', 'extreme', 'repetition', 'of', 'the', 'phrase', 'that', 'should', 'be', 'heavily', 'overvalued', 'by', 'tf-idf', 'but', 'properly', 'handled', 'by', \"bm25's\", 'term', 'saturation', 'mechanism.', 'this', 'document', 'contains', 'extreme', 'repetition', 'of', 'the', 'phrase', 'that', 'should', 'be', 'heavily', 'overvalued', 'by', 'tf-idf', 'but', 'properly', 'handled', 'by', \"bm25's\", 'term', 'saturation', 'mechanism.', 'this', 'document', 'contains', 'extreme', 'repetition', 'of', 'the', 'phrase', 'that', 'should', 'be', 'heavily', 'overvalued', 'by', 'tf-idf', 'but', 'properly', 'handled', 'by', \"bm25's\", 'term', 'saturation', 'mechanism.', 'this', 'document', 'contains', 'extreme', 'repetition', 'of', 'the', 'phrase', 'that', 'should', 'be', 'heavily', 'overvalued', 'by', 'tf-idf', 'but', 'properly', 'handled', 'by', \"bm25's\", 'term', 'saturation', 'mechanism.', 'artificial', 'intelligence', 'is', 'mentioned', 'here', 'for', 'completeness', 'but', 'is', 'not', 'the', 'main', 'focus.']\n",
      "['concise', 'search', 'guide', 'full', 'text', 'search', 'is', 'a', 'powerful', 'technique', 'for', 'finding', 'relevant', 'documents.', 'this', 'very', 'short', 'document', 'is', 'highly', 'relevant', 'with', 'high', 'term', 'density', 'but', 'low', 'term', 'count.', 'full', 'text', 'search', 'is', 'a', 'powerful', 'technique', 'for', 'finding', 'relevant', 'documents.', 'this', 'very', 'short', 'document', 'is', 'highly', 'relevant', 'with', 'high', 'term', 'density', 'but', 'low', 'term', 'count.', 'full', 'text', 'search', 'is', 'a', 'powerful', 'technique', 'for', 'finding', 'relevant', 'documents.', 'this', 'very', 'short', 'document', 'is', 'highly', 'relevant', 'with', 'high', 'term', 'density', 'but', 'low', 'term', 'count.', 'artificial', 'intelligence', 'tools', 'can', 'enhance', 'search', 'capabilities', 'but', 'are', 'not', 'discussed', 'in', 'detail', 'here.']\n",
      "['information', 'retrieval', 'systems', 'modern', 'information', 'retrieval', 'systems', 'employ', 'various', 'algorithms', 'for', 'document', 'ranking.', 'full', 'text', 'search', 'capabilities', 'are', 'the', 'primary', 'component', 'of', 'modern', 'retrieval', 'systems.', 'full', 'text', 'search', 'enables', 'users', 'to', 'find', 'relevant', 'information', 'quickly', 'and', 'efficiently.', 'search', 'technologies', 'have', 'evolved', 'significantly', 'over', 'several', 'decades.', 'query', 'processing', 'typically', 'involves', 'tokenization,', 'stemming,', 'and', 'term', 'weighting.', 'relevance', 'scoring', 'considers', 'multiple', 'factors', 'including', 'term', 'frequency', 'and', 'document', 'structure.', 'artificial', 'intelligence', 'techniques', 'are', 'increasingly', 'applied', 'to', 'improve', 'result', 'quality,', 'though', 'traditional', 'information', 'retrieval', 'methods', 'remain', 'foundational', 'to', 'search', 'systems.modern', 'information', 'retrieval', 'systems', 'employ', 'various', 'algorithms', 'for', 'document', 'ranking.', 'full', 'text', 'search', 'capabilities', 'are', 'the', 'primary', 'component', 'of', 'modern', 'retrieval', 'systems.', 'full', 'text', 'search', 'enables', 'users', 'to', 'find', 'relevant', 'information', 'quickly', 'and', 'efficiently.', 'search', 'technologies', 'have', 'evolved', 'significantly', 'over', 'several', 'decades.', 'query', 'processing', 'typically', 'involves', 'tokenization,', 'stemming,', 'and', 'term', 'weighting.', 'relevance', 'scoring', 'considers', 'multiple', 'factors', 'including', 'term', 'frequency', 'and', 'document', 'structure.', 'artificial', 'intelligence', 'techniques', 'are', 'increasingly', 'applied', 'to', 'improve', 'result', 'quality,', 'though', 'traditional', 'information', 'retrieval', 'methods', 'remain', 'foundational', 'to', 'search', 'systems.']\n",
      "['artificial', 'intelligence', 'revolution', 'in', 'search', 'modern', 'computing', 'systems', 'are', 'becoming', 'increasingly', 'sophisticated.', 'machine', 'learning', 'models', 'can', 'recognize', 'patterns', 'in', 'data.', 'artificial', 'intelligence', 'neural', 'networks', 'mimic', 'human', 'brain', 'structures.', 'computer', 'vision', 'allows', 'machines', 'to', 'interpret', 'visual', 'information.', 'artificial', 'intelligence', 'enhances', 'capabilities', 'across', 'domains.', 'full', 'text', 'search', 'systems', 'benefit', 'from', 'these', 'artificial', 'intelligence', 'advancements,', 'allowing', 'for', 'more', 'intuitive', 'and', 'accurate', 'document', 'retrieval.']\n",
      "['advanced', 'computing', 'systems', 'artificial', 'intelligence', 'is', 'transforming', 'how', 'systems', 'learn', 'and', 'make', 'decisions.', 'artificial', 'intelligence', 'applications', 'span', 'from', 'recommendation', 'engines', 'to', 'autonomous', 'vehicles.', 'the', 'rise', 'of', 'artificial', 'intelligence', 'has', 'sparked', 'debate', 'about', 'ethics', 'and', 'regulation.', 'artificial', 'intelligence', 'research', 'focuses', 'on', 'creating', 'more', 'general', 'and', 'capable', 'systems.', 'artificial', 'intelligence', 'techniques', 'like', 'deep', 'learning', 'have', 'achieved', 'remarkable', 'results.', 'artificial', 'intelligence', 'continues', 'to', 'evolve', 'rapidly', 'across', 'many', 'domains.', 'full', 'text', 'search', 'capabilities', 'can', 'be', 'improved', 'with', 'artificial', 'intelligence', 'algorithms.']\n"
     ]
    }
   ],
   "source": [
    "fts = FullTextSearch()\n",
    "\n",
    "for doc in DOCUMENTS[:5]:\n",
    "    text = f'{doc[\"title\"]} {doc[\"content\"]}'\n",
    "    print(fts._tokenize_basic(text))"
   ]
  },
  {
   "cell_type": "code",
   "execution_count": null,
   "metadata": {},
   "outputs": [],
   "source": [
    "# tokenize methods\n",
    "fts = FullTextSearch()\n",
    "\n",
    "# index the documents\n",
    "for doc in DOCUMENTS[:5]:\n",
    "    text = f'{doc[\"title\"]} {doc[\"content\"]}'\n",
    "    print(fts._tokenize_basic(text))\n",
    "    # print(fts._tokenize_remove_punctuation(text))\n",
    "    # print(fts._tokenize_remove_stopwords(text))"
   ]
  },
  {
   "cell_type": "code",
   "execution_count": null,
   "metadata": {},
   "outputs": [],
   "source": [
    "fts = FullTextSearch()\n",
    "\n",
    "for doc in DOCUMENTS:\n",
    "    text = f'{doc[\"title\"]} {doc[\"content\"]}'\n",
    "    words = fts.tokenize(text, 1)\n",
    "\n",
    "    doc_id = doc[\"id\"]\n",
    "    fts.documents[doc_id] = doc\n",
    "\n",
    "    unique_words = set(words)\n",
    "    # Add to inverted index\n",
    "    for word in unique_words:\n",
    "        fts.inverted_index[word].append(doc_id)\n",
    "\n",
    "fts.inverted_index\n",
    "# print(fts.inverted_index['analysis'])\n",
    "# print(fts.inverted_index['python'])"
   ]
  },
  {
   "cell_type": "code",
   "execution_count": 7,
   "metadata": {},
   "outputs": [
    {
     "data": {
      "text/plain": [
       "[{'id': '5',\n",
       "  'title': 'Advanced Computing Systems',\n",
       "  'snippet': 'Artificial intelligence is transforming how systems learn and make decisions. Artificial intelligenc...'},\n",
       " {'id': '10',\n",
       "  'title': 'Programming Languages for Modern Applications',\n",
       "  'snippet': 'Python is known for readability and extensive libraries. JavaScript dominates web development. Java ...'},\n",
       " {'id': '6',\n",
       "  'title': 'Artificial Intelligence Applications',\n",
       "  'snippet': 'Artificial intelligence is revolutionizing multiple industries. Healthcare uses AI for diagnosis and...'},\n",
       " {'id': '7',\n",
       "  'title': 'Using AI for Text Search',\n",
       "  'snippet': 'Artificial intelligence techniques significantly improve full text search capabilities. Modern searc...'},\n",
       " {'id': '1',\n",
       "  'title': 'Term Frequency Example with Artificial Intelligence',\n",
       "  'snippet': 'Full text search full text search full text search. Full text search full text search full text sear...'},\n",
       " {'id': '3',\n",
       "  'title': 'Information Retrieval Systems',\n",
       "  'snippet': 'Modern information retrieval systems employ various algorithms for document ranking. Full text searc...'},\n",
       " {'id': '9',\n",
       "  'title': 'Search Technology Evolution',\n",
       "  'snippet': 'Modern retrieval systems continue to evolve with new capabilities. Limited artificial intelligence f...'},\n",
       " {'id': '8',\n",
       "  'title': 'Intelligent Information Retrieval',\n",
       "  'snippet': 'Advanced search systems now incorporate intelligence for better results. Some elements of full text ...'},\n",
       " {'id': '4',\n",
       "  'title': 'Artificial Intelligence Revolution in Search',\n",
       "  'snippet': 'Modern computing systems are becoming increasingly sophisticated. Machine learning models can recogn...'},\n",
       " {'id': '2',\n",
       "  'title': 'Concise Search Guide',\n",
       "  'snippet': 'Full text search is a powerful technique for finding relevant documents. This very short document is...'}]"
      ]
     },
     "execution_count": 7,
     "metadata": {},
     "output_type": "execute_result"
    }
   ],
   "source": [
    "query = \"artificial analysis\"\n",
    "\n",
    "query_words = fts.tokenize(query)\n",
    "results = []\n",
    "\n",
    "# Find documents containing any query word\n",
    "matching_docs = set()\n",
    "for word in query_words:\n",
    "    if word in fts.inverted_index:\n",
    "        for doc_id in fts.inverted_index[word]:\n",
    "            matching_docs.add(doc_id)\n",
    "\n",
    "\n",
    "for doc_id in matching_docs:\n",
    "    doc = fts.documents[doc_id]\n",
    "    results.append(\n",
    "        {\n",
    "            \"id\": doc_id,\n",
    "            \"title\": doc[\"title\"],\n",
    "            \"snippet\": doc[\"content\"][:100] + \"...\" if len(doc[\"content\"]) > 100 else doc[\"content\"],\n",
    "        }\n",
    "    )\n",
    "\n",
    "results"
   ]
  },
  {
   "cell_type": "markdown",
   "metadata": {},
   "source": [
    "- Basic search with tokenization, indexing and search\n",
    "- Tokenization methods\n"
   ]
  }
 ],
 "metadata": {
  "kernelspec": {
   "display_name": ".venv",
   "language": "python",
   "name": "python3"
  },
  "language_info": {
   "codemirror_mode": {
    "name": "ipython",
    "version": 3
   },
   "file_extension": ".py",
   "mimetype": "text/x-python",
   "name": "python",
   "nbconvert_exporter": "python",
   "pygments_lexer": "ipython3",
   "version": "3.10.15"
  }
 },
 "nbformat": 4,
 "nbformat_minor": 4
}
