{
 "cells": [
  {
   "cell_type": "code",
   "execution_count": 1,
   "metadata": {},
   "outputs": [],
   "source": [
    "from datetime import datetime\n",
    "from collections import defaultdict\n",
    "\n",
    "from fts import FullTextSearch, DOCUMENTS"
   ]
  },
  {
   "cell_type": "code",
   "execution_count": 2,
   "metadata": {},
   "outputs": [
    {
     "data": {
      "text/plain": [
       "'Indexed 10 documents with 274 unique words'"
      ]
     },
     "execution_count": 2,
     "metadata": {},
     "output_type": "execute_result"
    }
   ],
   "source": [
    "fts = FullTextSearch()\n",
    "fts._index_for_bm25(DOCUMENTS)"
   ]
  },
  {
   "cell_type": "code",
   "execution_count": null,
   "metadata": {},
   "outputs": [
    {
     "name": "stdout",
     "output_type": "stream",
     "text": [
      "Boosted score for doc_id 1: 0.05287983149893803 -> 0.06036527654755658\n",
      "Boosted score for doc_id 2: 0.04517173709878027 -> 0.05136390391038524\n",
      "Boosted score for doc_id 3: 0.049121763342148746 -> 0.055452497792849255\n",
      "Boosted score for doc_id 4: 0.08216438974742392 -> 0.0920757644078484\n",
      "Boosted score for doc_id 5: 0.08818380268430596 -> 0.0984626585063387\n",
      "Boosted score for doc_id 6: 0.08892843563097559 -> 0.09902872522835386\n",
      "Boosted score for doc_id 7: 0.08153230195553844 -> 0.09025585662376011\n",
      "Boosted score for doc_id 8: 0.07271279162813266 -> 0.08028087606176137\n",
      "Boosted score for doc_id 9: 0.05599004464533014 -> 0.06149924842177486\n",
      "Boosted score for doc_id 10: 0.06775439697242819 -> 0.07429890342367747\n"
     ]
    },
    {
     "data": {
      "text/plain": [
       "defaultdict(float,\n",
       "            {'1': 0.06036527654755658,\n",
       "             '2': 0.05136390391038524,\n",
       "             '3': 0.055452497792849255,\n",
       "             '4': 0.0920757644078484,\n",
       "             '5': 0.0984626585063387,\n",
       "             '6': 0.09902872522835386,\n",
       "             '7': 0.09025585662376011,\n",
       "             '8': 0.08028087606176137,\n",
       "             '9': 0.06149924842177486,\n",
       "             '10': 0.07429890342367747})"
      ]
     },
     "execution_count": 16,
     "metadata": {},
     "output_type": "execute_result"
    }
   ],
   "source": [
    "query = \"intelligence\"\n",
    "\n",
    "doc_scores = fts._get_bm25_scores(query)\n",
    "\n",
    "for doc_id, score in doc_scores.items():\n",
    "    # recency boost\n",
    "    timestamp = datetime.fromisoformat(fts.documents[doc_id]['modified'])\n",
    "    age_in_hours = (datetime.now() - timestamp).total_seconds() / 3600\n",
    "    # the more recent, the higher the boost\n",
    "    denominator = 1 + age_in_hours * 0.0005\n",
    "    recency_boost = 1 + (1 / denominator)\n",
    "    boosted_score = score * recency_boost\n",
    "\n",
    "    if boosted_score > score:\n",
    "        print('Boosted score for doc_id {}: {} -> {}'.format(doc_id, score, boosted_score))\n",
    "\n",
    "    doc_scores[doc_id] = boosted_score\n",
    "\n",
    "doc_scores\n",
    "# matched_words"
   ]
  },
  {
   "cell_type": "code",
   "execution_count": null,
   "metadata": {},
   "outputs": [
    {
     "data": {
      "text/plain": [
       "[{'id': '6',\n",
       "  'title': 'Artificial Intelligence Applications',\n",
       "  'snippet': 'Artificial intelligence is revolutionizing multiple industries. Healthcare uses AI for diagnosis and...',\n",
       "  'score': 0.099},\n",
       " {'id': '5',\n",
       "  'title': 'Advanced Computing Systems',\n",
       "  'snippet': 'Artificial intelligence is transforming how systems learn and make decisions. Artificial intelligenc...',\n",
       "  'score': 0.098},\n",
       " {'id': '4',\n",
       "  'title': 'Artificial Intelligence Revolution in Search',\n",
       "  'snippet': 'Modern computing systems are becoming increasingly sophisticated. Machine learning models can recogn...',\n",
       "  'score': 0.092},\n",
       " {'id': '7',\n",
       "  'title': 'Using AI for Text Search',\n",
       "  'snippet': 'Artificial intelligence techniques significantly improve full text search capabilities. Modern searc...',\n",
       "  'score': 0.09},\n",
       " {'id': '8',\n",
       "  'title': 'Intelligent Information Retrieval',\n",
       "  'snippet': 'Advanced search systems now incorporate intelligence for better results. Some elements of full text ...',\n",
       "  'score': 0.08},\n",
       " {'id': '10',\n",
       "  'title': 'Programming Languages for Modern Applications',\n",
       "  'snippet': 'Python is known for readability and extensive libraries. JavaScript dominates web development. Java ...',\n",
       "  'score': 0.074},\n",
       " {'id': '9',\n",
       "  'title': 'Search Technology Evolution',\n",
       "  'snippet': 'Modern retrieval systems continue to evolve with new capabilities. Limited artificial intelligence f...',\n",
       "  'score': 0.061},\n",
       " {'id': '1',\n",
       "  'title': 'Term Frequency Example with Artificial Intelligence',\n",
       "  'snippet': 'Full text search full text search full text search. Full text search full text search full text sear...',\n",
       "  'score': 0.06},\n",
       " {'id': '3',\n",
       "  'title': 'Information Retrieval Systems',\n",
       "  'snippet': 'Modern information retrieval systems employ various algorithms for document ranking. Full text searc...',\n",
       "  'score': 0.055},\n",
       " {'id': '2',\n",
       "  'title': 'Concise Search Guide',\n",
       "  'snippet': 'Full text search is a powerful technique for finding relevant documents. This very short document is...',\n",
       "  'score': 0.051}]"
      ]
     },
     "execution_count": 17,
     "metadata": {},
     "output_type": "execute_result"
    }
   ],
   "source": [
    "# Prepare search results\n",
    "matched_words = fts._get_matched_words(query)\n",
    "results = fts._prepare_search_results(doc_scores, matched_words)\n",
    "results"
   ]
  }
 ],
 "metadata": {
  "kernelspec": {
   "display_name": ".venv",
   "language": "python",
   "name": "python3"
  },
  "language_info": {
   "codemirror_mode": {
    "name": "ipython",
    "version": 3
   },
   "file_extension": ".py",
   "mimetype": "text/x-python",
   "name": "python",
   "nbconvert_exporter": "python",
   "pygments_lexer": "ipython3",
   "version": "3.10.15"
  }
 },
 "nbformat": 4,
 "nbformat_minor": 4
}
