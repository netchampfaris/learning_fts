{
 "cells": [
  {
   "cell_type": "code",
   "execution_count": 1,
   "metadata": {},
   "outputs": [],
   "source": [
    "import math\n",
    "from collections import defaultdict\n",
    "\n",
    "from fts import FullTextSearch, DOCUMENTS"
   ]
  },
  {
   "cell_type": "code",
   "execution_count": null,
   "metadata": {},
   "outputs": [],
   "source": [
    "fts = FullTextSearch()\n",
    "\n",
    "total_length = 0\n",
    "\n",
    "for doc in DOCUMENTS:\n",
    "    doc_id = doc[\"id\"]\n",
    "    fts.documents[doc_id] = doc\n",
    "    # Combine title and content for tokenization\n",
    "    text = f\"{doc['title']} {doc['content']}\"\n",
    "\n",
    "    # Tokenize the combined text\n",
    "    words = fts.tokenize(text)\n",
    "\n",
    "    # Calculate document length\n",
    "    doc_length = len(words)\n",
    "    fts.doc_lengths[doc_id] = doc_length\n",
    "    total_length += doc_length\n",
    "\n",
    "    # Count word frequencies\n",
    "    word_freq = defaultdict(int)\n",
    "    for word in words:\n",
    "        word_freq[word] += 1\n",
    "\n",
    "    # Add to inverted index\n",
    "    for word, freq in word_freq.items():\n",
    "        fts.inverted_index[word].append((doc_id, freq))\n",
    "\n",
    "fts.total_doc_count = len(DOCUMENTS)\n",
    "\n",
    "fts.inverted_index\n",
    "# print(fts.inverted_index['intelligence'])\n",
    "# print(fts.inverted_index['python'])"
   ]
  },
  {
   "cell_type": "markdown",
   "metadata": {},
   "source": [
    "https://en.wikipedia.org/wiki/Tf%E2%80%93idf"
   ]
  },
  {
   "cell_type": "code",
   "execution_count": 5,
   "metadata": {},
   "outputs": [
    {
     "data": {
      "text/plain": [
       "defaultdict(float,\n",
       "            {'1': 0.01639344262295082,\n",
       "             '2': 0.013333333333333334,\n",
       "             '3': 0.013793103448275862,\n",
       "             '4': 0.07547169811320754,\n",
       "             '5': 0.109375,\n",
       "             '6': 0.1276595744680851,\n",
       "             '7': 0.07142857142857142,\n",
       "             '8': 0.05,\n",
       "             '9': 0.024390243902439025,\n",
       "             '10': 0.03571428571428571})"
      ]
     },
     "execution_count": 5,
     "metadata": {},
     "output_type": "execute_result"
    }
   ],
   "source": [
    "# query: intelligence\n",
    "# tfidf(intelligence, d1) = count of \"intelligence\" in d1 * how rare \"intelligence\" is\n",
    "\n",
    "query = \"intelligence\"\n",
    "query_words = fts.tokenize(query)\n",
    "\n",
    "# Calculate scores for each document\n",
    "doc_scores = defaultdict(float)\n",
    "matched_words = defaultdict(set)\n",
    "\n",
    "for word in query_words:\n",
    "    if word not in fts.inverted_index:\n",
    "        continue\n",
    "\n",
    "    for doc_id, freq in fts.inverted_index[word]:\n",
    "        # Calculate TF-IDF score\n",
    "        docs_with_word = fts.inverted_index[word]\n",
    "        docs_count = len(docs_with_word)\n",
    "\n",
    "        # Calculate Term Frequency (TF)\n",
    "        # Normalize by document length to account for document size\n",
    "        doc_len = fts.doc_lengths[doc_id]\n",
    "        tf = freq / doc_len if doc_len > 0 else 0\n",
    "\n",
    "        # Calculate Inverse Document Frequency (IDF)\n",
    "        # Add 1 to numerator and denominator to avoid division by zero\n",
    "        idf = math.log((fts.total_doc_count + 1) / (docs_count + 1)) + 1\n",
    "\n",
    "        # Calculate TF-IDF score\n",
    "        tfidf_score = tf * idf\n",
    "\n",
    "        # Add to document score\n",
    "        doc_scores[doc_id] += tfidf_score\n",
    "        matched_words[doc_id].add(word)\n",
    "\n",
    "doc_scores\n",
    "# matched_words"
   ]
  },
  {
   "cell_type": "code",
   "execution_count": 6,
   "metadata": {},
   "outputs": [
    {
     "data": {
      "text/plain": [
       "[{'id': '6',\n",
       "  'title': 'Artificial Intelligence Applications',\n",
       "  'snippet': 'Artificial intelligence is revolutionizing multiple industries. Healthcare uses AI for diagnosis and...',\n",
       "  'score': 0.128},\n",
       " {'id': '5',\n",
       "  'title': 'Advanced Computing Systems',\n",
       "  'snippet': 'Artificial intelligence is transforming how systems learn and make decisions. Artificial intelligenc...',\n",
       "  'score': 0.109},\n",
       " {'id': '4',\n",
       "  'title': 'Artificial Intelligence Revolution in Search',\n",
       "  'snippet': 'Modern computing systems are becoming increasingly sophisticated. Machine learning models can recogn...',\n",
       "  'score': 0.075},\n",
       " {'id': '7',\n",
       "  'title': 'Using AI for Text Search',\n",
       "  'snippet': 'Artificial intelligence techniques significantly improve full text search capabilities. Modern searc...',\n",
       "  'score': 0.071},\n",
       " {'id': '8',\n",
       "  'title': 'Intelligent Information Retrieval',\n",
       "  'snippet': 'Advanced search systems now incorporate intelligence for better results. Some elements of full text ...',\n",
       "  'score': 0.05},\n",
       " {'id': '10',\n",
       "  'title': 'Programming Languages for Modern Applications',\n",
       "  'snippet': 'Python is known for readability and extensive libraries. JavaScript dominates web development. Java ...',\n",
       "  'score': 0.036},\n",
       " {'id': '9',\n",
       "  'title': 'Search Technology Evolution',\n",
       "  'snippet': 'Modern retrieval systems continue to evolve with new capabilities. Limited artificial intelligence f...',\n",
       "  'score': 0.024},\n",
       " {'id': '1',\n",
       "  'title': 'Term Frequency Example with Artificial Intelligence',\n",
       "  'snippet': 'Full text search full text search full text search. Full text search full text search full text sear...',\n",
       "  'score': 0.016},\n",
       " {'id': '3',\n",
       "  'title': 'Information Retrieval Systems',\n",
       "  'snippet': 'Modern information retrieval systems employ various algorithms for document ranking. Full text searc...',\n",
       "  'score': 0.014},\n",
       " {'id': '2',\n",
       "  'title': 'Concise Search Guide',\n",
       "  'snippet': 'Full text search is a powerful technique for finding relevant documents. This very short document is...',\n",
       "  'score': 0.013}]"
      ]
     },
     "execution_count": 6,
     "metadata": {},
     "output_type": "execute_result"
    }
   ],
   "source": [
    "# Prepare search results\n",
    "results = []\n",
    "for doc_id, score in sorted(doc_scores.items(), key=lambda x: x[1], reverse=True):\n",
    "    doc = fts.documents[doc_id]\n",
    "    content = doc[\"content\"]\n",
    "\n",
    "    results.append(\n",
    "        {\n",
    "            \"id\": doc_id,\n",
    "            \"title\": doc[\"title\"],\n",
    "            \"snippet\": content[:100] + \"...\" if len(content) > 100 else content,\n",
    "            \"score\": round(score, 3),\n",
    "        }\n",
    "    )\n",
    "\n",
    "results"
   ]
  }
 ],
 "metadata": {
  "kernelspec": {
   "display_name": ".venv",
   "language": "python",
   "name": "python3"
  },
  "language_info": {
   "codemirror_mode": {
    "name": "ipython",
    "version": 3
   },
   "file_extension": ".py",
   "mimetype": "text/x-python",
   "name": "python",
   "nbconvert_exporter": "python",
   "pygments_lexer": "ipython3",
   "version": "3.10.15"
  }
 },
 "nbformat": 4,
 "nbformat_minor": 4
}
